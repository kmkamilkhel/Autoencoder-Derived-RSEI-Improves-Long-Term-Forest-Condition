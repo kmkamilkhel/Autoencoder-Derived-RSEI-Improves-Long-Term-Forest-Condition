import os
import glob
import numpy as np
import rasterio
from sklearn.decomposition import PCA
from sklearn.preprocessing import StandardScaler

# ── 0. Input stack & output dir ──────────────────────────
stack    = "ML_Stack_NDVI_kNDVI_AllVars_forestMasked.tif"
out_dir  = "RSEI_PCA_kNDVI_AllVars"
os.makedirs(out_dir, exist_ok=True)

# ── 1. Read in the combined stack ─────────────────────────
with rasterio.open(stack) as src:
    cube    = src.read(masked=True).filled(np.nan).astype(np.float32)
    meta    = src.profile
    names   = [d or f"band_{i+1}" for i, d in enumerate(src.descriptions)]

# ── 2. Identify static layers (elevation, slope) ─────────
elev_i = slope_i = None
static_idx = []
for i, nm in enumerate(names):
    nl = nm.lower()
    if "elevation" in nl:
        elev_i = i
        static_idx.append(i)
    elif "slope" in nl:
        slope_i = i
        static_idx.append(i)
assert elev_i is not None and slope_i is not None, "Missing elevation/slope"

# ── 3. Build per-year dynamic‐band map (kNDVI + others) ──
years    = list(range(2001, 2024))
year_map = {}
for y in years:
    stry = str(y)
    idxs = [
        i for i, nm in enumerate(names)
        if stry in nm and not nm.startswith("NDVI_") and i not in static_idx
    ]
    year_map[y] = idxs
    if not idxs:
        print(f"⚠️  Year {y} has no kNDVI/IBI/Wetness/SMI/LST bands")

# ── 4. Preprocessing Helpers ─────────────────────────────
def zscore(arr):
    m = ~np.isnan(arr)
    if m.any():
        μ, σ = arr[m].mean(), arr[m].std()
        if σ > 0:
            arr[m] = (arr[m] - μ) / σ
    return arr

def assemble(idxs):
    dyn   = cube[idxs]                    # dynamic layers
    stat  = cube[static_idx]              # elevation, slope
    full  = np.concatenate((dyn, stat), axis=0)
    for b in range(full.shape[0]):
        full[b] = zscore(full[b])
    return full

def to_matrix(c3):
    bands, h, w = c3.shape
    flat        = c3.reshape(bands, -1)
    valid       = ~np.isnan(flat).any(axis=0)
    if not valid.any():
        return None, None
    return flat[:, valid].T, valid

# ── 5. Process Each Year ────────────────────────────────
for yr in years:
    dyn_idxs = year_map[yr]
    if not dyn_idxs:
        continue

    cube3d, valid = assemble(dyn_idxs), None
    X_np, valid   = to_matrix(cube3d)
    if X_np is None:
        print(f"{yr}: no valid pixels → skip")
        continue

    print(f"{yr}: PCA on {X_np.shape[0]} pixels × {X_np.shape[1]} features")

    # PCA (n_components=1 → first PC)
    pca = PCA(n_components=1)
    z   = pca.fit_transform(X_np).ravel()

    # Correlation sign adjustment
    ref  = X_np[:, 0]  # first dynamic: typically kNDVI
    good = ~np.isnan(ref)
    if np.corrcoef(z[good], ref[good])[0, 1] < 0:
        z = -z

    # Normalize to [0,1]
    z01 = (z - z.min()) / (z.max() - z.min() + 1e-9)
    print(f"   ▶ z-range: {z01.min():.3f}–{z01.max():.3f}")

    # Rasterize
    flat_out = np.full(valid.shape, meta["nodata"], dtype=np.float32)
    flat_out[valid] = z01
    rsei = flat_out.reshape(meta["height"], meta["width"])

    # Write GeoTIFF
    outp = os.path.join(out_dir, f"RSEI_PCA_{yr}.tif")
    prof = meta.copy()
    prof.update(count=1, dtype="float32", nodata=meta["nodata"])
    with rasterio.open(outp, "w", **prof) as dst:
        dst.write(rsei, 1)
    print(f"   → saved {outp}")

print("✅ All PCA-based RSEI maps generated.")
