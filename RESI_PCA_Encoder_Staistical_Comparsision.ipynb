#!/usr/bin/env python3
"""
Side‐by‐side comparison of PCA‐based vs. AE‐based RSEI:

1. Compute pixel‐wise Pearson’s r (and RMSE) for each year (2001–2023), enforcing positive alignment
2. Generate difference maps Δ = RSEI_AE − RSEI_PCA for selected years

"""

import os
import glob
import numpy as np
import rasterio
import matplotlib.pyplot as plt

# ── 0. Paths ───────────────────────────────────────────────
PCA_DIR       = "RSEI_PCA_kNDVI_AllVars"       # PCA-based RSEI GeoTIFFs
AE_DIR        = "RSEI_kNDVI_AllVars"   # AE-based RSEI GeoTIFFs
OUT_DIFF_DIR  = "RSEI_Differences"
os.makedirs(OUT_DIFF_DIR, exist_ok=True)

# ── 1. Discover files by year ──────────────────────────────
years = list(range(2001, 2024))
pca_files = {
    int(os.path.basename(p).split("_")[-1].split(".")[0]): p
    for p in glob.glob(os.path.join(PCA_DIR, "RSEI_PCA_*.tif"))
}
ae_files = {
    int(os.path.basename(p).split("_")[-1].split(".")[0]): p
    for p in glob.glob(os.path.join(AE_DIR,  "RSEI_*.tif"))
}

# ── 2. Compute per‐year Pearson’s r and RMSE ───────────────
results = []
for year in years:
    pca_fp = pca_files.get(year)
    ae_fp  = ae_files.get(year)
    if not pca_fp or not ae_fp:
        print(f"[{year}] Missing PCA or AE file, skipping.")
        continue

    with rasterio.open(pca_fp) as src_pca, rasterio.open(ae_fp) as src_ae:
        pca = src_pca.read(1).astype(np.float32)
        ae  = src_ae.read(1).astype(np.float32)
        nodata = src_pca.nodata

    # mask nodata and NaNs
    mask = (
        (pca == nodata) |
        (ae  == nodata) |
        np.isnan(pca) |
        np.isnan(ae)
    )
    pca_vals = pca[~mask].ravel()
    ae_vals  = ae[~mask].ravel()
    if pca_vals.size == 0:
        print(f"[{year}] No valid pixels, skipping.")
        continue

    # compute Pearson r and RMSE
    r_raw = np.corrcoef(pca_vals, ae_vals)[0,1]
    # if anti-correlated, flip PCA so that r becomes positive
    if r_raw < 0:
        pca_vals = 1.0 - pca_vals
        r_raw = -r_raw

    rmse = np.sqrt(np.mean((ae_vals - pca_vals)**2))
    results.append((year, r_raw, rmse))

    print(f"[{year}] Pearson r = {r_raw:.4f}, RMSE = {rmse:.4f}")

# ── 3. Summary table ───────────────────────────────────────
print("\nYear\tPearson r\tRMSE")
for year, r, rmse in results:
    print(f"{year}\t{r:.4f}\t\t{rmse:.4f}")

# ── 4. Generate and plot difference maps ───────────────────
selected_years = [2005, 2015, 2023]
cmap = plt.cm.RdBu_r

for year in selected_years:
    pca_fp = pca_files.get(year)
    ae_fp  = ae_files.get(year)
    if not pca_fp or not ae_fp:
        continue

    with rasterio.open(pca_fp) as src_pca, rasterio.open(ae_fp) as src_ae:
        pca = src_pca.read(1).astype(np.float32)
        ae  = src_ae.read(1).astype(np.float32)
        profile = src_pca.profile
        nodata = profile["nodata"]

    # enforce same flip as above
    mask = (
        (pca == nodata) |
        (ae  == nodata) |
        np.isnan(pca) |
        np.isnan(ae)
    )
    valid = ~mask
    # apply flip if needed
    vals_pca = pca[valid].ravel()
    vals_ae  = ae[valid].ravel()
    r_raw = np.corrcoef(vals_pca, vals_ae)[0,1]
    if r_raw < 0:
        pca = 1.0 - pca

    # compute difference
    diff = np.full_like(pca, nodata, dtype=np.float32)
    diff[valid] = ae[valid] - pca[valid]

    # save GeoTIFF
    out_fp = os.path.join(OUT_DIFF_DIR, f"RSEI_Delta_{year}.tif")
    profile.update(dtype="float32", count=1, nodata=nodata)
    with rasterio.open(out_fp, "w", **profile) as dst:
        dst.write(diff, 1)
    print(f"Saved Δ map for {year} → {out_fp}")

    # plot
    plt.figure(figsize=(6,5))
    plt.imshow(diff, cmap=cmap, vmin=-0.3, vmax=0.3)
    plt.title(f"ΔRSEI (AE − PCA), {year}")
    plt.colorbar(label="ΔRSEI")
    plt.axis("off")
    plt.tight_layout()
    plt.show()









