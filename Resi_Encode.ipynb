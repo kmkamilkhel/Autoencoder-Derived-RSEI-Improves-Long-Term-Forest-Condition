import os
import glob
import numpy as np
import rasterio
import tensorflow as tf
from tensorflow.keras import Input, Model
from tensorflow.keras.layers import Dense
from tensorflow.keras.callbacks import EarlyStopping
from tensorflow.keras import backend as K

# ── 0. GPU check ──────────────────────────────────────────
gpus = tf.config.list_physical_devices('GPU')
if not gpus:
    raise RuntimeError("No GPU found for TensorFlow.")
tf.config.experimental.set_memory_growth(gpus[0], True)

# ── 1. Input stack & output dir ──────────────────────────
stack    = "ML_Stack_NDVI_kNDVI_AllVars_forestMasked.tif"
out_dir  = "RSEI_kNDVI_AllVars"
os.makedirs(out_dir, exist_ok=True)

# ── 2. Read in the combined stack ─────────────────────────
with rasterio.open(stack) as src:
    cube    = src.read(masked=True).filled(np.nan).astype(np.float32)
    meta    = src.profile
    names   = [d or f"band_{i+1}" for i, d in enumerate(src.descriptions)]

# ── 3. Identify static layers (elevation, slope) ─────────
elev_i = slope_i = None
static_idx = []
for i, nm in enumerate(names):
    nl = nm.lower()
    if "elevation" in nl:
        elev_i = i
        static_idx.append(i)
    elif "slope" in nl:
        slope_i = i
        static_idx.append(i)
assert elev_i is not None and slope_i is not None, "Missing elevation/slope"

# ── 4. Build per-year dynamic‐band map (kNDVI + others) ──
years    = list(range(2001, 2024))
year_map = {}
for y in years:
    stry = str(y)
    # include any layer that ends with _YYYY except NDVI_YYYY
    idxs = [
        i for i,nm in enumerate(names)
        if stry in nm and not nm.startswith("NDVI_")
           and i not in static_idx
    ]
    year_map[y] = idxs
    if not idxs:
        print(f"⚠️  Year {y} has no kNDVI/IBI/Wetness/SMI/LST bands")

# ── 5. Helpers ────────────────────────────────────────────
def zscore(arr):
    m = ~np.isnan(arr)
    if m.any():
        μ, σ = arr[m].mean(), arr[m].std()
        if σ > 0:
            arr[m] = (arr[m] - μ) / σ
    return arr

def assemble(idxs):
    """Stack dynamic bands + [elev,slope], then z-score each layer."""
    dyn   = cube[idxs]                    # all kNDVI+IBI+Wet+SMI+LST for year
    stat  = cube[static_idx]              # elevation, slope
    full  = np.concatenate((dyn, stat), axis=0)
    for b in range(full.shape[0]):
        full[b] = zscore(full[b])
    return full

def to_matrix(c3):
    bands, h, w = c3.shape
    flat        = c3.reshape(bands, -1)
    valid       = ~np.isnan(flat).any(axis=0)
    if not valid.any():
        return None, None
    return flat[:, valid].T, valid

def build_ae(dim):
    inp  = Input((dim,))
    h1   = Dense(64, activation="relu")(inp)
    bott = Dense(1,  activation="tanh")(h1)
    h2   = Dense(64, activation="relu")(bott)
    out  = Dense(dim, activation=None)(h2)
    ae   = Model(inp, out)
    enc  = Model(inp, bott)
    ae.compile(optimizer="adam", loss="mse")
    return ae, enc

# ── 6. Process each year ─────────────────────────────────
for yr in years:
    dyn_idxs = year_map[yr]
    if not dyn_idxs:
        continue

    cube3d, valid = assemble(dyn_idxs), None
    X_np, valid    = to_matrix(cube3d)
    if X_np is None:
        print(f"{yr}: no valid pixels → skip")
        continue

    print(f"{yr}: training on {X_np.shape[0]} pixels × {X_np.shape[1]} features")

    # TF dataset
    X_tf = tf.convert_to_tensor(X_np, tf.float32)
    ds   = tf.data.Dataset.from_tensor_slices((X_tf, X_tf)) \
                         .shuffle(200_000).batch(8192) \
                         .prefetch(tf.data.AUTOTUNE)

    # train AE
    ae, enc = build_ae(X_np.shape[1])
    ae.fit(ds, epochs=50,
           callbacks=[EarlyStopping("loss", patience=4, restore_best_weights=True)],
           verbose=0)

    # get latent z
    z    = enc.predict(X_tf, batch_size=16384, verbose=0).ravel()
    ref  = X_np[:, 0]                     # first dynamic: kNDVI_YYYY
    good = ~np.isnan(ref)
    if np.corrcoef(z[good], ref[good])[0,1] < 0:
        z = -z

    # normalize
    z01 = (z - z.min())/(z.max() - z.min() + 1e-9)
    print(f"   ▶ z-range: {z01.min():.3f}–{z01.max():.3f}")

    # rasterize
    flat_out = np.full(valid.shape, meta["nodata"], dtype=np.float32)
    flat_out[valid] = z01
    rsei     = flat_out.reshape(meta["height"], meta["width"])

    # write GeoTIFF
    outp   = os.path.join(out_dir, f"RSEI_kNDVI_{yr}.tif")
    prof   = meta.copy()
    prof.update(count=1, dtype="float32", nodata=meta["nodata"])
    with rasterio.open(outp, "w", **prof) as dst:
        dst.write(rsei, 1)
    print(f"   → saved {outp}")

    # cleanup
    del ae, enc, ds, X_tf, X_np, cube3d, z, z01, flat_out
    K.clear_session()

print("✅ All kNDVI-based RSEI maps generated.")


